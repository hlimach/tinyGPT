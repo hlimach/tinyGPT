{
 "cells": [
  {
   "attachments": {},
   "cell_type": "markdown",
   "metadata": {},
   "source": [
    "## Loading Data"
   ]
  },
  {
   "cell_type": "code",
   "execution_count": 2,
   "metadata": {},
   "outputs": [],
   "source": [
    "# ! wget https://raw.githubusercontent.com/karpathy/char-rnn/master/data/tinyshakespeare/input.txt\n",
    "with open('input.txt', 'r', encoding='utf-8') as f:\n",
    "    text = f.read()"
   ]
  },
  {
   "attachments": {},
   "cell_type": "markdown",
   "metadata": {},
   "source": [
    "## Training the Bigram Model"
   ]
  },
  {
   "cell_type": "code",
   "execution_count": 1,
   "metadata": {},
   "outputs": [],
   "source": [
    "import torch\n",
    "\n",
    "split_size = 0.9\n",
    "batch_size = 32\n",
    "block_size = 8\n",
    "max_iters = 3000\n",
    "eval_interval = 300\n",
    "learning_rate = 1e-2\n",
    "eval_iters = 200\n",
    "device = 'cuda' if torch.cuda.is_available() else 'cpu'"
   ]
  },
  {
   "cell_type": "code",
   "execution_count": 3,
   "metadata": {},
   "outputs": [
    {
     "name": "stdout",
     "output_type": "stream",
     "text": [
      "data loader successfully initiated.\n"
     ]
    }
   ],
   "source": [
    "from data import CharData\n",
    "\n",
    "data = CharData(text, params={\n",
    "    'split_size': split_size,\n",
    "    'batch_size': batch_size,\n",
    "    'block_size': block_size,\n",
    "    'device': device,\n",
    "})"
   ]
  },
  {
   "cell_type": "code",
   "execution_count": 4,
   "metadata": {},
   "outputs": [
    {
     "data": {
      "text/plain": [
       "BigramLanguageModel(\n",
       "  (token_embedding_table): Embedding(65, 65)\n",
       ")"
      ]
     },
     "execution_count": 4,
     "metadata": {},
     "output_type": "execute_result"
    }
   ],
   "source": [
    "from bigram import BigramLanguageModel\n",
    "\n",
    "model = BigramLanguageModel(data.get_vocab_size())\n",
    "model.to(device)"
   ]
  },
  {
   "cell_type": "code",
   "execution_count": 5,
   "metadata": {},
   "outputs": [],
   "source": [
    "optimizer = torch.optim.AdamW(model.parameters(), lr=learning_rate)"
   ]
  },
  {
   "cell_type": "code",
   "execution_count": 6,
   "metadata": {},
   "outputs": [
    {
     "name": "stdout",
     "output_type": "stream",
     "text": [
      "iter 0 - train loss 4.6271, val loss 4.6232\n",
      "iter 200 - train loss 3.1157, val loss 3.1271\n",
      "iter 400 - train loss 2.6663, val loss 2.6797\n",
      "iter 600 - train loss 2.5422, val loss 2.5654\n",
      "iter 800 - train loss 2.5045, val loss 2.5340\n",
      "iter 1000 - train loss 2.4906, val loss 2.5161\n",
      "iter 1200 - train loss 2.4873, val loss 2.4990\n",
      "iter 1400 - train loss 2.4794, val loss 2.5013\n",
      "iter 1600 - train loss 2.4607, val loss 2.4841\n",
      "iter 1800 - train loss 2.4661, val loss 2.4905\n",
      "iter 2000 - train loss 2.4726, val loss 2.4883\n",
      "iter 2200 - train loss 2.4717, val loss 2.5022\n",
      "iter 2400 - train loss 2.4553, val loss 2.4918\n",
      "iter 2600 - train loss 2.4718, val loss 2.4948\n",
      "iter 2800 - train loss 2.4657, val loss 2.4966\n"
     ]
    }
   ],
   "source": [
    "from utils import estimate_loss\n",
    "\n",
    "for iter in range(max_iters):\n",
    "\n",
    "    # check the loss once every eval_iters intervals pass\n",
    "    if not iter % eval_iters:\n",
    "        losses = estimate_loss(model, data, eval_iters)\n",
    "        print(f\"iter {iter} - train loss {losses['train']:.4f}, val loss {losses['val']:.4f}\")\n",
    "    \n",
    "    # get a batch of data\n",
    "    X, Y = data.get_batch('train')\n",
    "\n",
    "    # evaluate the loss\n",
    "    logits, loss = model(X, Y)\n",
    "    optimizer.zero_grad(set_to_none=True)\n",
    "    loss.backward()\n",
    "    optimizer.step()"
   ]
  },
  {
   "cell_type": "code",
   "execution_count": 8,
   "metadata": {},
   "outputs": [
    {
     "name": "stdout",
     "output_type": "stream",
     "text": [
      "\n",
      "M:\n",
      "O:\n",
      "My mys cemar:\n",
      "Wer peer cobearoflifos s.\n",
      "TIZA RYghe s\n",
      "HEDYg he\n",
      "Lounrd\n",
      "Ma hounnonghallveparisotrm o to Coswind ade histhert.\n",
      "AThecas, o nt ave;\n",
      "AMabarne k hof spetour malam owowieand illee ousoe cr it h. s pts.\n",
      "MANRKE:\n",
      "gmy my ste plke aimiagho wesisit wrer Canses howh cce, tuas s llltetod my be listhasw co I ave: f t CENCl medurmerur mayan.\n",
      "St thy au o warme in.zenoupom.\n",
      "\n",
      "QUCHomeeteate te Hectr.\n",
      "\n",
      "Ton pprtit y ngs she we an w kend'shoonondio pr ber:\n",
      "Wack fe h h,\n",
      "'s ait le,\n",
      "TEDERYO: tifo donof\n"
     ]
    }
   ],
   "source": [
    "context = torch.zeros((1, 1), dtype=torch.long, device=device)\n",
    "print(data.decode(model.generate(context, max_new_tokens=500)[0].tolist()))"
   ]
  }
 ],
 "metadata": {
  "kernelspec": {
   "display_name": "base",
   "language": "python",
   "name": "python3"
  },
  "language_info": {
   "codemirror_mode": {
    "name": "ipython",
    "version": 3
   },
   "file_extension": ".py",
   "mimetype": "text/x-python",
   "name": "python",
   "nbconvert_exporter": "python",
   "pygments_lexer": "ipython3",
   "version": "3.8.8"
  },
  "orig_nbformat": 4,
  "vscode": {
   "interpreter": {
    "hash": "40d3a090f54c6569ab1632332b64b2c03c39dcf918b08424e98f38b5ae0af88f"
   }
  }
 },
 "nbformat": 4,
 "nbformat_minor": 2
}
