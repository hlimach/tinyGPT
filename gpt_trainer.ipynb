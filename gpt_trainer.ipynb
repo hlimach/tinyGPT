{
 "cells": [
  {
   "attachments": {},
   "cell_type": "markdown",
   "metadata": {},
   "source": [
    "## Loading Data"
   ]
  },
  {
   "cell_type": "code",
   "execution_count": 1,
   "metadata": {},
   "outputs": [],
   "source": [
    "# ! wget https://raw.githubusercontent.com/karpathy/char-rnn/master/data/tinyshakespeare/input.txt\n",
    "with open('input.txt', 'r', encoding='utf-8') as f:\n",
    "    text = f.read()"
   ]
  },
  {
   "attachments": {},
   "cell_type": "markdown",
   "metadata": {},
   "source": [
    "## Training the GPT Model"
   ]
  },
  {
   "cell_type": "code",
   "execution_count": 2,
   "metadata": {},
   "outputs": [],
   "source": [
    "import torch\n",
    "\n",
    "split_size = 0.9\n",
    "batch_size = 32\n",
    "block_size = 8\n",
    "n_embd = 32\n",
    "n_heads = 4\n",
    "\n",
    "max_iters = 5000\n",
    "eval_interval = 500\n",
    "learning_rate = 1e-3\n",
    "eval_iters = 200\n",
    "device = 'cuda' if torch.cuda.is_available() else 'cpu'"
   ]
  },
  {
   "cell_type": "code",
   "execution_count": 3,
   "metadata": {},
   "outputs": [
    {
     "name": "stdout",
     "output_type": "stream",
     "text": [
      "data loader successfully initiated.\n"
     ]
    }
   ],
   "source": [
    "from data import CharData\n",
    "\n",
    "data = CharData(text, params={\n",
    "    'split_size': split_size,\n",
    "    'batch_size': batch_size,\n",
    "    'block_size': block_size,\n",
    "    'device': device,\n",
    "})"
   ]
  },
  {
   "cell_type": "code",
   "execution_count": 4,
   "metadata": {},
   "outputs": [
    {
     "data": {
      "text/plain": [
       "GPTLanguageModel(\n",
       "  (token_embedding_table): Embedding(65, 32)\n",
       "  (pos_embedding_table): Embedding(8, 32)\n",
       "  (blocks): Sequential(\n",
       "    (0): Block(\n",
       "      (self_attn_heads): MultiHeads(\n",
       "        (heads): ModuleList(\n",
       "          (0): Head(\n",
       "            (key): Linear(in_features=32, out_features=8, bias=False)\n",
       "            (query): Linear(in_features=32, out_features=8, bias=False)\n",
       "            (value): Linear(in_features=32, out_features=8, bias=False)\n",
       "          )\n",
       "          (1): Head(\n",
       "            (key): Linear(in_features=32, out_features=8, bias=False)\n",
       "            (query): Linear(in_features=32, out_features=8, bias=False)\n",
       "            (value): Linear(in_features=32, out_features=8, bias=False)\n",
       "          )\n",
       "          (2): Head(\n",
       "            (key): Linear(in_features=32, out_features=8, bias=False)\n",
       "            (query): Linear(in_features=32, out_features=8, bias=False)\n",
       "            (value): Linear(in_features=32, out_features=8, bias=False)\n",
       "          )\n",
       "          (3): Head(\n",
       "            (key): Linear(in_features=32, out_features=8, bias=False)\n",
       "            (query): Linear(in_features=32, out_features=8, bias=False)\n",
       "            (value): Linear(in_features=32, out_features=8, bias=False)\n",
       "          )\n",
       "        )\n",
       "      )\n",
       "      (feedfwd): FeedForward(\n",
       "        (feed): Sequential(\n",
       "          (0): Linear(in_features=32, out_features=32, bias=True)\n",
       "          (1): ReLU()\n",
       "        )\n",
       "      )\n",
       "    )\n",
       "    (1): Block(\n",
       "      (self_attn_heads): MultiHeads(\n",
       "        (heads): ModuleList(\n",
       "          (0): Head(\n",
       "            (key): Linear(in_features=32, out_features=8, bias=False)\n",
       "            (query): Linear(in_features=32, out_features=8, bias=False)\n",
       "            (value): Linear(in_features=32, out_features=8, bias=False)\n",
       "          )\n",
       "          (1): Head(\n",
       "            (key): Linear(in_features=32, out_features=8, bias=False)\n",
       "            (query): Linear(in_features=32, out_features=8, bias=False)\n",
       "            (value): Linear(in_features=32, out_features=8, bias=False)\n",
       "          )\n",
       "          (2): Head(\n",
       "            (key): Linear(in_features=32, out_features=8, bias=False)\n",
       "            (query): Linear(in_features=32, out_features=8, bias=False)\n",
       "            (value): Linear(in_features=32, out_features=8, bias=False)\n",
       "          )\n",
       "          (3): Head(\n",
       "            (key): Linear(in_features=32, out_features=8, bias=False)\n",
       "            (query): Linear(in_features=32, out_features=8, bias=False)\n",
       "            (value): Linear(in_features=32, out_features=8, bias=False)\n",
       "          )\n",
       "        )\n",
       "      )\n",
       "      (feedfwd): FeedForward(\n",
       "        (feed): Sequential(\n",
       "          (0): Linear(in_features=32, out_features=32, bias=True)\n",
       "          (1): ReLU()\n",
       "        )\n",
       "      )\n",
       "    )\n",
       "    (2): Block(\n",
       "      (self_attn_heads): MultiHeads(\n",
       "        (heads): ModuleList(\n",
       "          (0): Head(\n",
       "            (key): Linear(in_features=32, out_features=8, bias=False)\n",
       "            (query): Linear(in_features=32, out_features=8, bias=False)\n",
       "            (value): Linear(in_features=32, out_features=8, bias=False)\n",
       "          )\n",
       "          (1): Head(\n",
       "            (key): Linear(in_features=32, out_features=8, bias=False)\n",
       "            (query): Linear(in_features=32, out_features=8, bias=False)\n",
       "            (value): Linear(in_features=32, out_features=8, bias=False)\n",
       "          )\n",
       "          (2): Head(\n",
       "            (key): Linear(in_features=32, out_features=8, bias=False)\n",
       "            (query): Linear(in_features=32, out_features=8, bias=False)\n",
       "            (value): Linear(in_features=32, out_features=8, bias=False)\n",
       "          )\n",
       "          (3): Head(\n",
       "            (key): Linear(in_features=32, out_features=8, bias=False)\n",
       "            (query): Linear(in_features=32, out_features=8, bias=False)\n",
       "            (value): Linear(in_features=32, out_features=8, bias=False)\n",
       "          )\n",
       "        )\n",
       "      )\n",
       "      (feedfwd): FeedForward(\n",
       "        (feed): Sequential(\n",
       "          (0): Linear(in_features=32, out_features=32, bias=True)\n",
       "          (1): ReLU()\n",
       "        )\n",
       "      )\n",
       "    )\n",
       "  )\n",
       "  (lm_head): Linear(in_features=32, out_features=65, bias=True)\n",
       ")"
      ]
     },
     "execution_count": 4,
     "metadata": {},
     "output_type": "execute_result"
    }
   ],
   "source": [
    "from gpt import GPTLanguageModel\n",
    "\n",
    "model = GPTLanguageModel(params={\n",
    "    'vocab_size': data.get_vocab_size(),\n",
    "    'block_size': block_size,\n",
    "    'n_heads': n_heads,\n",
    "    'n_embd': n_embd,\n",
    "    'device': device,\n",
    "})\n",
    "model.to(device)"
   ]
  },
  {
   "cell_type": "code",
   "execution_count": 5,
   "metadata": {},
   "outputs": [],
   "source": [
    "optimizer = torch.optim.AdamW(model.parameters(), lr=learning_rate)"
   ]
  },
  {
   "cell_type": "code",
   "execution_count": 6,
   "metadata": {},
   "outputs": [
    {
     "name": "stdout",
     "output_type": "stream",
     "text": [
      "iter 0 - train loss 4.1652, val loss 4.1639\n",
      "iter 500 - train loss 3.0741, val loss 3.0760\n",
      "iter 1000 - train loss 2.6912, val loss 2.7108\n",
      "iter 1500 - train loss 2.5633, val loss 2.5806\n",
      "iter 2000 - train loss 2.4836, val loss 2.5001\n",
      "iter 2500 - train loss 2.4469, val loss 2.4454\n",
      "iter 3000 - train loss 2.4059, val loss 2.4124\n",
      "iter 3500 - train loss 2.3629, val loss 2.3662\n",
      "iter 4000 - train loss 2.3526, val loss 2.3469\n",
      "iter 4500 - train loss 2.3233, val loss 2.3283\n",
      "iter 4999 - train loss 2.3005, val loss 2.2926\n"
     ]
    }
   ],
   "source": [
    "from utils import estimate_loss\n",
    "\n",
    "for iter in range(max_iters):\n",
    "\n",
    "    # check the loss once every eval_iters intervals pass\n",
    "    if iter % eval_interval == 0 or iter == max_iters - 1:\n",
    "        losses = estimate_loss(model, data, eval_iters)\n",
    "        print(f\"iter {iter} - train loss {losses['train']:.4f}, val loss {losses['val']:.4f}\")\n",
    "    \n",
    "    # get a batch of data\n",
    "    X, Y = data.get_batch('train')\n",
    "\n",
    "    # evaluate the loss\n",
    "    logits, loss = model(X, Y)\n",
    "    optimizer.zero_grad(set_to_none=True)\n",
    "    loss.backward()\n",
    "    optimizer.step()"
   ]
  },
  {
   "cell_type": "code",
   "execution_count": 7,
   "metadata": {},
   "outputs": [
    {
     "name": "stdout",
     "output_type": "stream",
     "text": [
      "\n",
      "\n",
      "NA shen on themnor Tor, I theriis heablerf,\n",
      "Matthe on none\n",
      "Ad a bibcosgour tas toe ade weme heroll ise, luithel thoud toe thanl the fath o this wonds waor lome.\n",
      "it you in ther:\n",
      "So, mimrirve heith?\n",
      "\n",
      "IGCIINGHINER:\n",
      "What this that an.\n",
      "\n",
      "GABAThed myoukt mone darmafe sing, lesere, butis fo, minight oucqeire wodouth and not nof sted we han we tho heter ime forin dattatid\n",
      "Wouk liy she I I thakte ace tho ma sofid I to tho, sto thudlil'd, to my?\n",
      "thit thine, Vaabed lates;\n",
      "Thafe thind cofe bore ip sit sthit\n"
     ]
    }
   ],
   "source": [
    "context = torch.zeros((1, 1), dtype=torch.long, device=device)\n",
    "print(data.decode(model.generate(context, max_new_tokens=500)[0].tolist()))"
   ]
  },
  {
   "cell_type": "code",
   "execution_count": null,
   "metadata": {},
   "outputs": [],
   "source": []
  }
 ],
 "metadata": {
  "kernelspec": {
   "display_name": "base",
   "language": "python",
   "name": "python3"
  },
  "language_info": {
   "codemirror_mode": {
    "name": "ipython",
    "version": 3
   },
   "file_extension": ".py",
   "mimetype": "text/x-python",
   "name": "python",
   "nbconvert_exporter": "python",
   "pygments_lexer": "ipython3",
   "version": "3.8.8"
  },
  "orig_nbformat": 4,
  "vscode": {
   "interpreter": {
    "hash": "40d3a090f54c6569ab1632332b64b2c03c39dcf918b08424e98f38b5ae0af88f"
   }
  }
 },
 "nbformat": 4,
 "nbformat_minor": 2
}
